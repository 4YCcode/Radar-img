{
 "cells": [
  {
   "cell_type": "code",
   "execution_count": 2,
   "metadata": {},
   "outputs": [
    {
     "name": "stdout",
     "output_type": "stream",
     "text": [
      "https://cwbopendata.s3.ap-northeast-1.amazonaws.com/MSC/O-A0058-001.png\n"
     ]
    }
   ],
   "source": [
    "import requests\n",
    "\n",
    "url='https://opendata.cwb.gov.tw/fileapi/v1/opendataapi/O-A0058-001?Authorization=rdec-key-123-45678-011121314&format=JSON'\n",
    "data=requests.get(url)\n",
    "data_json = data.json() \n",
    "radar_img = data_json['cwbopendata']['dataset']['resource']['uri']  # 取得圖片網址\n",
    "print(radar_img)"
   ]
  },
  {
   "cell_type": "code",
   "execution_count": 3,
   "metadata": {},
   "outputs": [],
   "source": [
    "url='https://notify-api.line.me/api/notify'\n",
    "token='RuAgmdgVREUy1ubnSmNlj4B0DbLBK11Tta8wkDwfKG6'\n",
    "headers = {\n",
    "    'Authorization': 'Bearer ' + token    # 設定權杖\n",
    "}\n"
   ]
  },
  {
   "cell_type": "code",
   "execution_count": 4,
   "metadata": {},
   "outputs": [],
   "source": [
    "data = {\n",
    "    'message':'用雷波圖看一下會不會下雨',\n",
    "    'imageThumbnail':radar_img,\n",
    "    'imageFullsize':radar_img\n",
    "}\n",
    "data=requests.post(url,headers=headers,data=data)"
   ]
  },
  {
   "cell_type": "code",
   "execution_count": 5,
   "metadata": {},
   "outputs": [],
   "source": [
    "radar_time= data_json['cwbopendata']['dataset']['time']['obsTime']\n",
    "data = {\n",
    "    'message':'用雷波圖看一下會不會下雨',\n",
    "    'imageThumbnail':radar_img+'?'+radar_time,\n",
    "    'imageFullsize':radar_img+'?'+radar_time\n",
    "}\n",
    "data=requests.post(url,headers=headers,data=data)"
   ]
  },
  {
   "attachments": {},
   "cell_type": "markdown",
   "metadata": {},
   "source": [
    "加入['time'}，讓程式回傳即時訊息，資料更新時，回傳訊息也會同步更新。"
   ]
  }
 ],
 "metadata": {
  "kernelspec": {
   "display_name": "Python 3",
   "language": "python",
   "name": "python3"
  },
  "language_info": {
   "codemirror_mode": {
    "name": "ipython",
    "version": 3
   },
   "file_extension": ".py",
   "mimetype": "text/x-python",
   "name": "python",
   "nbconvert_exporter": "python",
   "pygments_lexer": "ipython3",
   "version": "3.10.6"
  },
  "orig_nbformat": 4
 },
 "nbformat": 4,
 "nbformat_minor": 2
}
